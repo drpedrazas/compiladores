{
  "nbformat": 4,
  "nbformat_minor": 0,
  "metadata": {
    "colab": {
      "name": "Compiladores.ipynb",
      "provenance": [],
      "collapsed_sections": [],
      "authorship_tag": "ABX9TyNR6ZZD9c5IjEXF7n2/sgAY",
      "include_colab_link": true
    },
    "kernelspec": {
      "name": "python3",
      "display_name": "Python 3"
    },
    "language_info": {
      "name": "python"
    }
  },
  "cells": [
    {
      "cell_type": "markdown",
      "metadata": {
        "id": "view-in-github",
        "colab_type": "text"
      },
      "source": [
        "<a href=\"https://colab.research.google.com/github/drpedrazas/compiladores/blob/master/Compiladores.ipynb\" target=\"_parent\"><img src=\"https://colab.research.google.com/assets/colab-badge.svg\" alt=\"Open In Colab\"/></a>"
      ]
    },
    {
      "cell_type": "code",
      "metadata": {
        "id": "14CNk3P1YAln"
      },
      "source": [
        "\n",
        "\n",
        "def fn(x):\n",
        "    t = 0\n",
        "    arr = np.zeros(len(x), dtype=int) \n",
        "    for s in range(1, len(x)):  \n",
        "      while(t > 0 and x[s] != x[t]):\n",
        "        t = arr[t - 1]\n",
        "      if(x[s] == x[t]):\n",
        "        t += 1\n",
        "        arr[s] = t\n",
        "      else:\n",
        "        arr[s] = 0\n",
        "    return arr\n"
      ],
      "execution_count": null,
      "outputs": []
    },
    {
      "cell_type": "code",
      "metadata": {
        "colab": {
          "base_uri": "https://localhost:8080/"
        },
        "id": "-uKwPe_sv3Dl",
        "outputId": "066d77e0-6e2d-4736-b2a0-404bde4a56b8"
      },
      "source": [
        "#punto 4.4.6\n",
        "def sub(x,y):\n",
        "  f = fn(y)\n",
        "  u = 0\n",
        "  for j in range(0,len(x)):\n",
        "    while(u > 0 and x[j] != y[u]):\n",
        "      u = f[u-1]\n",
        "    if x[j] == y[u]:\n",
        "      u += 1\n",
        "    if u == len(y):\n",
        "      return True\n",
        "  return False\n",
        "\n",
        "for i in {\"abababaab\", \"abababbaa\"}:\n",
        "  print(sub(i, 'ababaa'))"
      ],
      "execution_count": null,
      "outputs": [
        {
          "output_type": "stream",
          "name": "stdout",
          "text": [
            "True\n",
            "False\n"
          ]
        }
      ]
    },
    {
      "cell_type": "code",
      "metadata": {
        "colab": {
          "base_uri": "https://localhost:8080/"
        },
        "id": "Ky2LHxayypL5",
        "outputId": "898e197c-d8a5-428c-a940-aceafb44a7f3"
      },
      "source": [
        "#punto 3.4.9\n",
        "def fib(n):\n",
        "  if n == 1:\n",
        "    return \"b\"\n",
        "  if n == 2:\n",
        "    return \"a\"\n",
        "  else:\n",
        "    return fib(n-1) + fib(n-2)\n",
        "s6 = fib(6)\n",
        "s7 = fib(7)\n",
        "print(s6,s7)\n",
        "print(fn(s6),fn(s7))"
      ],
      "execution_count": null,
      "outputs": [
        {
          "output_type": "stream",
          "name": "stdout",
          "text": [
            "abaababa abaababaabaab\n",
            "[0 0 1 1 2 3 2 3] [0 0 1 1 2 3 2 3 4 5 6 4 5]\n"
          ]
        }
      ]
    }
  ]
}